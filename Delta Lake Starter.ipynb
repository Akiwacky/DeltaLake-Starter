{
 "cells": [
  {
   "cell_type": "code",
   "execution_count": 0,
   "metadata": {
    "application/vnd.databricks.v1+cell": {
     "cellMetadata": {
      "byteLimit": 2048000,
      "rowLimit": 10000
     },
     "inputWidgets": {},
     "nuid": "c3cfa212-7ee0-49cf-a029-9d4408b40f6f",
     "showTitle": false,
     "title": ""
    }
   },
   "outputs": [],
   "source": [
    "from pyspark.sql import SparkSession\n",
    "import pyspark.sql.functions as F \n",
    "from delta import *"
   ]
  },
  {
   "cell_type": "code",
   "execution_count": 0,
   "metadata": {
    "application/vnd.databricks.v1+cell": {
     "cellMetadata": {
      "byteLimit": 2048000,
      "rowLimit": 10000
     },
     "inputWidgets": {},
     "nuid": "f47b465b-4061-45a1-b5f8-ece307a35a28",
     "showTitle": false,
     "title": ""
    }
   },
   "outputs": [],
   "source": [
    "#Initialize a Spark Session which loads up the Delta Lake Extensions\n",
    "spark = SparkSession.builder.appName('stock-prices')\\\n",
    "    .config(\"spark.sql.extensions\", \"io.delta.sql.DeltaSparkSessionExtension\")\\\n",
    "        .config(\"spark.sql.catalog.spark_catalog\", \"org.apache.spark.sql.delta.catalog.DeltaCatalog\")\\\n",
    "            .getOrCreate()"
   ]
  },
  {
   "cell_type": "code",
   "execution_count": 0,
   "metadata": {
    "application/vnd.databricks.v1+cell": {
     "cellMetadata": {
      "byteLimit": 2048000,
      "rowLimit": 10000
     },
     "inputWidgets": {},
     "nuid": "d8350e97-838b-42f1-a0a6-658611b26316",
     "showTitle": false,
     "title": ""
    }
   },
   "outputs": [
    {
     "output_type": "display_data",
     "data": {
      "text/html": [
       "<style scoped>\n",
       "  .table-result-container {\n",
       "    max-height: 300px;\n",
       "    overflow: auto;\n",
       "  }\n",
       "  table, th, td {\n",
       "    border: 1px solid black;\n",
       "    border-collapse: collapse;\n",
       "  }\n",
       "  th, td {\n",
       "    padding: 5px;\n",
       "  }\n",
       "  th {\n",
       "    text-align: left;\n",
       "  }\n",
       "</style><div class='table-result-container'><table class='table-result'><thead style='background-color: white'><tr><th>path</th><th>name</th><th>size</th><th>modificationTime</th></tr></thead><tbody><tr><td>dbfs:/FileStore/tables/AAPL.csv</td><td>AAPL.csv</td><td>712282</td><td>1700921500000</td></tr><tr><td>dbfs:/FileStore/tables/ADBE.csv</td><td>ADBE.csv</td><td>676979</td><td>1700921500000</td></tr><tr><td>dbfs:/FileStore/tables/AMZN.csv</td><td>AMZN.csv</td><td>693298</td><td>1700921504000</td></tr><tr><td>dbfs:/FileStore/tables/GOOGL.csv</td><td>GOOGL.csv</td><td>563457</td><td>1700921503000</td></tr><tr><td>dbfs:/FileStore/tables/META.csv</td><td>META.csv</td><td>327826</td><td>1700921505000</td></tr><tr><td>dbfs:/FileStore/tables/MSFT.csv</td><td>MSFT.csv</td><td>703911</td><td>1700921507000</td></tr><tr><td>dbfs:/FileStore/tables/NVDA.csv</td><td>NVDA.csv</td><td>701824</td><td>1700921509000</td></tr><tr><td>dbfs:/FileStore/tables/TSLA.csv</td><td>TSLA.csv</td><td>392793</td><td>1700921509000</td></tr><tr><td>dbfs:/FileStore/tables/nflx.csv</td><td>nflx.csv</td><td>612464</td><td>1700921508000</td></tr></tbody></table></div>"
      ]
     },
     "metadata": {
      "application/vnd.databricks.v1+output": {
       "addedWidgets": {},
       "aggData": [],
       "aggError": "",
       "aggOverflow": false,
       "aggSchema": [],
       "aggSeriesLimitReached": false,
       "aggType": "",
       "arguments": {},
       "columnCustomDisplayInfos": {},
       "data": [
        [
         "dbfs:/FileStore/tables/AAPL.csv",
         "AAPL.csv",
         712282,
         1700921500000
        ],
        [
         "dbfs:/FileStore/tables/ADBE.csv",
         "ADBE.csv",
         676979,
         1700921500000
        ],
        [
         "dbfs:/FileStore/tables/AMZN.csv",
         "AMZN.csv",
         693298,
         1700921504000
        ],
        [
         "dbfs:/FileStore/tables/GOOGL.csv",
         "GOOGL.csv",
         563457,
         1700921503000
        ],
        [
         "dbfs:/FileStore/tables/META.csv",
         "META.csv",
         327826,
         1700921505000
        ],
        [
         "dbfs:/FileStore/tables/MSFT.csv",
         "MSFT.csv",
         703911,
         1700921507000
        ],
        [
         "dbfs:/FileStore/tables/NVDA.csv",
         "NVDA.csv",
         701824,
         1700921509000
        ],
        [
         "dbfs:/FileStore/tables/TSLA.csv",
         "TSLA.csv",
         392793,
         1700921509000
        ],
        [
         "dbfs:/FileStore/tables/nflx.csv",
         "nflx.csv",
         612464,
         1700921508000
        ]
       ],
       "datasetInfos": [],
       "dbfsResultPath": null,
       "isJsonSchema": true,
       "metadata": {
        "isDbfsCommandResult": false
       },
       "overflow": false,
       "plotOptions": {
        "customPlotOptions": {},
        "displayType": "table",
        "pivotAggregation": null,
        "pivotColumns": null,
        "xColumns": null,
        "yColumns": null
       },
       "removedWidgets": [],
       "schema": [
        {
         "metadata": "{}",
         "name": "path",
         "type": "\"string\""
        },
        {
         "metadata": "{}",
         "name": "name",
         "type": "\"string\""
        },
        {
         "metadata": "{}",
         "name": "size",
         "type": "\"long\""
        },
        {
         "metadata": "{}",
         "name": "modificationTime",
         "type": "\"long\""
        }
       ],
       "type": "table"
      }
     },
     "output_type": "display_data"
    }
   ],
   "source": [
    "%fs ls dbfs:/FileStore/tables/ "
   ]
  },
  {
   "cell_type": "code",
   "execution_count": 0,
   "metadata": {
    "application/vnd.databricks.v1+cell": {
     "cellMetadata": {
      "byteLimit": 2048000,
      "rowLimit": 10000
     },
     "inputWidgets": {},
     "nuid": "7ec7267f-747f-4de6-bcf1-573aec457927",
     "showTitle": false,
     "title": ""
    }
   },
   "outputs": [],
   "source": [
    "# Define the path to your dataset\n",
    "dataset_path_nflx = \"dbfs:/FileStore/tables/nflx.csv\"\n",
    "dataset_path_appl = \"dbfs:/FileStore/tables/AAPL.csv\"\n",
    "dataset_path_amzn = \"dbfs:/FileStore/tables/AMZN.csv\"\n",
    "dataset_path_google = \"dbfs:/FileStore/tables/GOOGL.csv\"\n",
    "dataset_path_meta = \"dbfs:/FileStore/tables/META.csv\"\n",
    "dataset_path_nvda = \"dbfs:/FileStore/tables/NVDA.csv\"\n",
    "dataset_path_tsla = \"dbfs:/FileStore/tables/TSLA.csv\"\n",
    "dataset_path_msft = \"dbfs:/FileStore/tables/MSFT.csv\""
   ]
  },
  {
   "cell_type": "markdown",
   "metadata": {
    "application/vnd.databricks.v1+cell": {
     "cellMetadata": {
      "byteLimit": 2048000,
      "rowLimit": 10000
     },
     "inputWidgets": {},
     "nuid": "e560e7c6-3969-437b-b4e2-881c1f523af6",
     "showTitle": false,
     "title": ""
    }
   },
   "source": [
    "### Data Preparation: Examine the data strucutre and decide on the schema for the Delta Lake Table"
   ]
  },
  {
   "cell_type": "code",
   "execution_count": 0,
   "metadata": {
    "application/vnd.databricks.v1+cell": {
     "cellMetadata": {
      "byteLimit": 2048000,
      "rowLimit": 10000
     },
     "inputWidgets": {},
     "nuid": "d24c12fb-8d1a-4b06-b0a5-f87cab525aab",
     "showTitle": false,
     "title": ""
    }
   },
   "outputs": [
    {
     "output_type": "stream",
     "name": "stdout",
     "output_type": "stream",
     "text": [
      "+-------------------+------------------+------------------+------------------+------------------+---------+---------+------------+\n|               Date|              Open|              High|               Low|             Close|   Volume|Dividends|Stock Splits|\n+-------------------+------------------+------------------+------------------+------------------+---------+---------+------------+\n|2002-05-23 04:00:00|1.1564290523529053|1.2428569793701172|1.1457140445709229|1.1964290142059326|104790000|      0.0|         0.0|\n|2002-05-24 04:00:00| 1.214285969734192| 1.225000023841858|1.1971429586410522|1.2100000381469727| 11104800|      0.0|         0.0|\n|2002-05-28 04:00:00|1.2135709524154663|1.2321430444717407| 1.157142996788025| 1.157142996788025|  6609400|      0.0|         0.0|\n|2002-05-29 04:00:00|1.1642860174179077|1.1642860174179077|1.0857139825820923|1.1035710573196411|  6757800|      0.0|         0.0|\n|2002-05-30 04:00:00|1.1078569889068604|1.1078569889068604|1.0714290142059326|1.0714290142059326| 10154200|      0.0|         0.0|\n+-------------------+------------------+------------------+------------------+------------------+---------+---------+------------+\nonly showing top 5 rows\n\n"
     ]
    }
   ],
   "source": [
    "# Read the dataset \n",
    "nflx_df = spark.read.csv(\n",
    "    path=dataset_path_nflx,\n",
    "    sep=\",\", \n",
    "    header=True, \n",
    "    inferSchema=True,\n",
    "    )\n",
    "nflx_df.show(5)\n"
   ]
  },
  {
   "cell_type": "code",
   "execution_count": 0,
   "metadata": {
    "application/vnd.databricks.v1+cell": {
     "cellMetadata": {
      "byteLimit": 2048000,
      "rowLimit": 10000
     },
     "inputWidgets": {},
     "nuid": "8c5bcea0-e5f0-47e3-8894-3888c67f916a",
     "showTitle": false,
     "title": ""
    }
   },
   "outputs": [
    {
     "output_type": "stream",
     "name": "stdout",
     "output_type": "stream",
     "text": [
      "root\n |-- Date: timestamp (nullable = true)\n |-- Open: double (nullable = true)\n |-- High: double (nullable = true)\n |-- Low: double (nullable = true)\n |-- Close: double (nullable = true)\n |-- Volume: integer (nullable = true)\n |-- Dividends: double (nullable = true)\n |-- Stock Splits: double (nullable = true)\n\n"
     ]
    }
   ],
   "source": [
    "nflx_df.printSchema()"
   ]
  },
  {
   "cell_type": "markdown",
   "metadata": {
    "application/vnd.databricks.v1+cell": {
     "cellMetadata": {
      "byteLimit": 2048000,
      "rowLimit": 10000
     },
     "inputWidgets": {},
     "nuid": "7efe848c-e26b-4aee-a40e-088e3b37ee42",
     "showTitle": false,
     "title": ""
    }
   },
   "source": [
    "##### Correct the schema"
   ]
  },
  {
   "cell_type": "code",
   "execution_count": 0,
   "metadata": {
    "application/vnd.databricks.v1+cell": {
     "cellMetadata": {
      "byteLimit": 2048000,
      "rowLimit": 10000
     },
     "inputWidgets": {},
     "nuid": "158f3fce-81e8-4d1d-a700-d478a15e34ac",
     "showTitle": false,
     "title": ""
    }
   },
   "outputs": [],
   "source": [
    "# Based on the examination, define the schema explicitly if needed\n",
    "from pyspark.sql.types import StructType, StructField, StringType, IntegerType, FloatType, DateType\n",
    "\n",
    "schema = StructType([\n",
    "    StructField(\"Date\", DateType(), True),\n",
    "    StructField(\"Open\", FloatType(), True),\n",
    "    StructField(\"High\", FloatType(), True),\n",
    "    StructField(\"Low\", FloatType(), True),\n",
    "    StructField(\"Close\", FloatType(), True),\n",
    "    StructField(\"Volume\", FloatType(), True),\n",
    "    StructField(\"Dividends\", FloatType(), True),\n",
    "    StructField(\"Stock Splits\", FloatType(), True),  \n",
    "])"
   ]
  },
  {
   "cell_type": "code",
   "execution_count": 0,
   "metadata": {
    "application/vnd.databricks.v1+cell": {
     "cellMetadata": {
      "byteLimit": 2048000,
      "rowLimit": 10000
     },
     "inputWidgets": {},
     "nuid": "1d0e96ec-ee0e-4239-9043-9702c152da69",
     "showTitle": false,
     "title": ""
    }
   },
   "outputs": [],
   "source": [
    "# Read the dataset again with the defined schema\n",
    "nflx = spark.read.csv(\n",
    "    path=dataset_path_nflx,\n",
    "    sep=\",\", \n",
    "    header=True, \n",
    "    schema=schema\n",
    "    )\n",
    "    \n",
    "apple = spark.read.csv(\n",
    "    path=dataset_path_appl,\n",
    "    sep=\",\", \n",
    "    header=True, \n",
    "    schema=schema\n",
    "    )\n",
    "\n",
    "amazon = spark.read.csv(\n",
    "    path=dataset_path_amzn,\n",
    "    sep=\",\", \n",
    "    header=True, \n",
    "    schema=schema\n",
    "    )\n",
    "\n",
    "meta = spark.read.csv(\n",
    "    path=dataset_path_meta,\n",
    "    sep=\",\", \n",
    "    header=True, \n",
    "    schema=schema\n",
    "    )\n",
    "\n",
    "msft = spark.read.csv(\n",
    "    path=dataset_path_msft,\n",
    "    sep=\",\", \n",
    "    header=True, \n",
    "    schema=schema\n",
    "    )\n",
    "\n",
    "google = spark.read.csv(\n",
    "    path=dataset_path_google,\n",
    "    sep=\",\", \n",
    "    header=True, \n",
    "    schema=schema\n",
    "    )\n",
    "\n",
    "nvda = spark.read.csv(\n",
    "    path=dataset_path_nvda,\n",
    "    sep=\",\", \n",
    "    header=True, \n",
    "    schema=schema\n",
    "    )\n",
    "\n",
    "tsla = spark.read.csv(\n",
    "    path=dataset_path_tsla,\n",
    "    sep=\",\", \n",
    "    header=True, \n",
    "    schema=schema\n",
    "    )"
   ]
  },
  {
   "cell_type": "markdown",
   "metadata": {
    "application/vnd.databricks.v1+cell": {
     "cellMetadata": {
      "byteLimit": 2048000,
      "rowLimit": 10000
     },
     "inputWidgets": {},
     "nuid": "d91ecbd7-0fc6-4e6b-b345-e2ba81a255ab",
     "showTitle": false,
     "title": ""
    }
   },
   "source": [
    "#### Data Cleaning & Transformation"
   ]
  },
  {
   "cell_type": "code",
   "execution_count": 0,
   "metadata": {
    "application/vnd.databricks.v1+cell": {
     "cellMetadata": {
      "byteLimit": 2048000,
      "rowLimit": 10000
     },
     "inputWidgets": {},
     "nuid": "7c618c08-31fc-4e47-881c-01092a6c361c",
     "showTitle": false,
     "title": ""
    }
   },
   "outputs": [
    {
     "output_type": "stream",
     "name": "stdout",
     "output_type": "stream",
     "text": [
      "+----------+--------+--------+--------+--------+---------+---------+------------+------+\n|      Date|    Open|    High|     Low|   Close|   Volume|Dividends|Stock Splits|ticker|\n+----------+--------+--------+--------+--------+---------+---------+------------+------+\n|2002-05-23|1.156429|1.242857|1.145714|1.196429| 1.0479E8|      0.0|         0.0|  NFLX|\n|2002-05-24|1.214286|   1.225|1.197143|    1.21|1.11048E7|      0.0|         0.0|  NFLX|\n|2002-05-28|1.213571|1.232143|1.157143|1.157143|6609400.0|      0.0|         0.0|  NFLX|\n|2002-05-29|1.164286|1.164286|1.085714|1.103571|6757800.0|      0.0|         0.0|  NFLX|\n|2002-05-30|1.107857|1.107857|1.071429|1.071429|1.01542E7|      0.0|         0.0|  NFLX|\n|2002-05-31|1.078571|1.078571|1.071429|1.076429|8464400.0|      0.0|         0.0|  NFLX|\n|2002-06-03|    1.08|1.149286|1.076429|1.128571|3151400.0|      0.0|         0.0|  NFLX|\n|2002-06-04|1.135714|    1.14|1.110714|1.117857|3105200.0|      0.0|         0.0|  NFLX|\n|2002-06-05|1.110714|1.159286|1.107143|1.147143|1531600.0|      0.0|         0.0|  NFLX|\n|2002-06-06|    1.15|1.232143|1.148571|1.182143|2305800.0|      0.0|         0.0|  NFLX|\n|2002-06-07|1.177857|1.177857|1.103571|1.118571|1369200.0|      0.0|         0.0|  NFLX|\n|2002-06-10|   1.135|   1.175|1.134286|1.156429| 484400.0|      0.0|         0.0|  NFLX|\n|2002-06-11|1.156429|1.188571|1.128571|1.153571|1003800.0|      0.0|         0.0|  NFLX|\n|2002-06-12|1.153571|1.182143|1.089286|1.092857|1799000.0|      0.0|         0.0|  NFLX|\n|2002-06-13|1.104286|1.122143|    1.08|1.082857|2567600.0|      0.0|         0.0|  NFLX|\n|2002-06-14|1.082143|1.085714|    0.98|0.986429|4783800.0|      0.0|         0.0|  NFLX|\n|2002-06-17|1.013571|1.059286|0.917857|0.922143|4855200.0|      0.0|         0.0|  NFLX|\n|2002-06-18|0.938571|0.939286|0.842143|0.910714| 1.0808E7|      0.0|         0.0|  NFLX|\n|2002-06-19|0.911429|0.996429|0.892857|0.951429|5482400.0|      0.0|         0.0|  NFLX|\n|2002-06-20|0.971429|    1.04|    0.95|0.957143|6111000.0|      0.0|         0.0|  NFLX|\n+----------+--------+--------+--------+--------+---------+---------+------------+------+\nonly showing top 20 rows\n\n"
     ]
    }
   ],
   "source": [
    "nflx = nflx.withColumn('ticker', F.lit('NFLX'))\n",
    "apple = apple.withColumn('ticker', F.lit('AAPL'))\n",
    "amazon = amazon.withColumn('ticker', F.lit('AMZN'))\n",
    "meta = meta.withColumn('ticker', F.lit('META'))\n",
    "google = google.withColumn('ticker', F.lit('GOOGL'))\n",
    "msft = msft.withColumn('ticker', F.lit('MSFT'))\n",
    "nvda = nvda.withColumn('ticker', F.lit('NVDA'))\n",
    "tsla = tsla.withColumn('ticker', F.lit('TSLA'))\n",
    "\n",
    "dataframes = [nflx, apple, amazon, meta, google, msft, nvda, tsla]\n",
    "\n",
    "df = dataframes[0]\n",
    "\n",
    "for i in dataframes[1:]:\n",
    "    df = df.union(i)\n",
    "\n",
    "\n",
    "df.show()"
   ]
  },
  {
   "cell_type": "markdown",
   "metadata": {
    "application/vnd.databricks.v1+cell": {
     "cellMetadata": {
      "byteLimit": 2048000,
      "rowLimit": 10000
     },
     "inputWidgets": {},
     "nuid": "330b92da-0939-4559-a7ae-fceba9e6f958",
     "showTitle": false,
     "title": ""
    }
   },
   "source": [
    "##### Remove Unnecessary Columns"
   ]
  },
  {
   "cell_type": "code",
   "execution_count": 0,
   "metadata": {
    "application/vnd.databricks.v1+cell": {
     "cellMetadata": {
      "byteLimit": 2048000,
      "rowLimit": 10000
     },
     "inputWidgets": {},
     "nuid": "7de0a684-a302-4f22-b492-c3e3e1171f38",
     "showTitle": false,
     "title": ""
    }
   },
   "outputs": [
    {
     "output_type": "stream",
     "name": "stdout",
     "output_type": "stream",
     "text": [
      "+----------+--------+--------+--------+--------+---------+---------+------+\n|      Date|    Open|    High|     Low|   Close|   Volume|Dividends|ticker|\n+----------+--------+--------+--------+--------+---------+---------+------+\n|2002-05-23|1.156429|1.242857|1.145714|1.196429| 1.0479E8|      0.0|  NFLX|\n|2002-05-24|1.214286|   1.225|1.197143|    1.21|1.11048E7|      0.0|  NFLX|\n|2002-05-28|1.213571|1.232143|1.157143|1.157143|6609400.0|      0.0|  NFLX|\n|2002-05-29|1.164286|1.164286|1.085714|1.103571|6757800.0|      0.0|  NFLX|\n|2002-05-30|1.107857|1.107857|1.071429|1.071429|1.01542E7|      0.0|  NFLX|\n+----------+--------+--------+--------+--------+---------+---------+------+\nonly showing top 5 rows\n\n"
     ]
    }
   ],
   "source": [
    "df = df.drop('Stock Splits')\n",
    "df.show(5)"
   ]
  },
  {
   "cell_type": "markdown",
   "metadata": {
    "application/vnd.databricks.v1+cell": {
     "cellMetadata": {
      "byteLimit": 2048000,
      "rowLimit": 10000
     },
     "inputWidgets": {},
     "nuid": "93a1aa83-c22c-4ea2-8029-e0623dcb3b0f",
     "showTitle": false,
     "title": ""
    }
   },
   "source": [
    "##### Handle Missing Values"
   ]
  },
  {
   "cell_type": "code",
   "execution_count": 0,
   "metadata": {
    "application/vnd.databricks.v1+cell": {
     "cellMetadata": {
      "byteLimit": 2048000,
      "rowLimit": 10000
     },
     "inputWidgets": {},
     "nuid": "dd245610-02c4-4887-ad73-a3cc2319362d",
     "showTitle": false,
     "title": ""
    }
   },
   "outputs": [
    {
     "output_type": "stream",
     "name": "stdout",
     "output_type": "stream",
     "text": [
      "+----+----+----+---+-----+------+---------+------+\n|Date|Open|High|Low|Close|Volume|Dividends|ticker|\n+----+----+----+---+-----+------+---------+------+\n+----+----+----+---+-----+------+---------+------+\n\n"
     ]
    }
   ],
   "source": [
    "#Show missing values \n",
    "from functools import reduce\n",
    "null_values = df.filter(reduce(lambda a, b: a | b, [F.col(c).isNull() for c in df.columns]))\n",
    "null_values.show()"
   ]
  },
  {
   "cell_type": "markdown",
   "metadata": {
    "application/vnd.databricks.v1+cell": {
     "cellMetadata": {
      "byteLimit": 2048000,
      "rowLimit": 10000
     },
     "inputWidgets": {},
     "nuid": "a9a04c7c-019e-4aeb-ba8f-e444fa16cea3",
     "showTitle": false,
     "title": ""
    }
   },
   "source": [
    "### Save to Delta Lake Table"
   ]
  },
  {
   "cell_type": "code",
   "execution_count": 0,
   "metadata": {
    "application/vnd.databricks.v1+cell": {
     "cellMetadata": {
      "byteLimit": 2048000,
      "rowLimit": 10000
     },
     "inputWidgets": {},
     "nuid": "a850f7b4-56f5-418e-8386-16307f4d8427",
     "showTitle": false,
     "title": ""
    }
   },
   "outputs": [
    {
     "output_type": "stream",
     "name": "stdout",
     "output_type": "stream",
     "text": [
      "The number of file is: 8\n"
     ]
    }
   ],
   "source": [
    "df.write.format(\"delta\").save('dbfs:/FileStore/tables/deltaData')\n",
    "print(f\"The number of file is: {df.rdd.getNumPartitions()}\")"
   ]
  },
  {
   "cell_type": "code",
   "execution_count": 0,
   "metadata": {
    "application/vnd.databricks.v1+cell": {
     "cellMetadata": {
      "byteLimit": 2048000,
      "rowLimit": 10000
     },
     "inputWidgets": {},
     "nuid": "1ca31f5d-0846-42db-921d-853b57079725",
     "showTitle": false,
     "title": ""
    }
   },
   "outputs": [
    {
     "output_type": "display_data",
     "data": {
      "text/html": [
       "<style scoped>\n",
       "  .table-result-container {\n",
       "    max-height: 300px;\n",
       "    overflow: auto;\n",
       "  }\n",
       "  table, th, td {\n",
       "    border: 1px solid black;\n",
       "    border-collapse: collapse;\n",
       "  }\n",
       "  th, td {\n",
       "    padding: 5px;\n",
       "  }\n",
       "  th {\n",
       "    text-align: left;\n",
       "  }\n",
       "</style><div class='table-result-container'><table class='table-result'><thead style='background-color: white'><tr><th>path</th><th>name</th><th>size</th><th>modificationTime</th></tr></thead><tbody><tr><td>dbfs:/FileStore/tables/deltaData/_delta_log/</td><td>_delta_log/</td><td>0</td><td>0</td></tr><tr><td>dbfs:/FileStore/tables/deltaData/part-00000-e31887d5-8463-4301-8365-6cba0a1275c3-c000.snappy.parquet</td><td>part-00000-e31887d5-8463-4301-8365-6cba0a1275c3-c000.snappy.parquet</td><td>131715</td><td>1700921555000</td></tr><tr><td>dbfs:/FileStore/tables/deltaData/part-00001-2e7904f4-34d5-461f-b98e-33ebde12b22b-c000.snappy.parquet</td><td>part-00001-2e7904f4-34d5-461f-b98e-33ebde12b22b-c000.snappy.parquet</td><td>146702</td><td>1700921555000</td></tr><tr><td>dbfs:/FileStore/tables/deltaData/part-00002-e68be46a-a60a-4a6a-a988-566708752548-c000.snappy.parquet</td><td>part-00002-e68be46a-a60a-4a6a-a988-566708752548-c000.snappy.parquet</td><td>145062</td><td>1700921555000</td></tr><tr><td>dbfs:/FileStore/tables/deltaData/part-00003-f3af5ff7-6d2f-488a-9acd-7a6e5e18ca34-c000.snappy.parquet</td><td>part-00003-f3af5ff7-6d2f-488a-9acd-7a6e5e18ca34-c000.snappy.parquet</td><td>71850</td><td>1700921555000</td></tr><tr><td>dbfs:/FileStore/tables/deltaData/part-00004-6d543892-c380-47fd-9561-1288f0d57a1f-c000.snappy.parquet</td><td>part-00004-6d543892-c380-47fd-9561-1288f0d57a1f-c000.snappy.parquet</td><td>118781</td><td>1700921555000</td></tr><tr><td>dbfs:/FileStore/tables/deltaData/part-00005-8e2d7944-3f58-47c4-8efe-104ecf46d7e9-c000.snappy.parquet</td><td>part-00005-8e2d7944-3f58-47c4-8efe-104ecf46d7e9-c000.snappy.parquet</td><td>147029</td><td>1700921555000</td></tr><tr><td>dbfs:/FileStore/tables/deltaData/part-00006-24f8e63b-26a2-478d-927e-65d0173022fa-c000.snappy.parquet</td><td>part-00006-24f8e63b-26a2-478d-927e-65d0173022fa-c000.snappy.parquet</td><td>146856</td><td>1700921555000</td></tr><tr><td>dbfs:/FileStore/tables/deltaData/part-00007-09072444-11f5-48d4-b0d8-fd53197100f9-c000.snappy.parquet</td><td>part-00007-09072444-11f5-48d4-b0d8-fd53197100f9-c000.snappy.parquet</td><td>83039</td><td>1700921555000</td></tr></tbody></table></div>"
      ]
     },
     "metadata": {
      "application/vnd.databricks.v1+output": {
       "addedWidgets": {},
       "aggData": [],
       "aggError": "",
       "aggOverflow": false,
       "aggSchema": [],
       "aggSeriesLimitReached": false,
       "aggType": "",
       "arguments": {},
       "columnCustomDisplayInfos": {},
       "data": [
        [
         "dbfs:/FileStore/tables/deltaData/_delta_log/",
         "_delta_log/",
         0,
         0
        ],
        [
         "dbfs:/FileStore/tables/deltaData/part-00000-e31887d5-8463-4301-8365-6cba0a1275c3-c000.snappy.parquet",
         "part-00000-e31887d5-8463-4301-8365-6cba0a1275c3-c000.snappy.parquet",
         131715,
         1700921555000
        ],
        [
         "dbfs:/FileStore/tables/deltaData/part-00001-2e7904f4-34d5-461f-b98e-33ebde12b22b-c000.snappy.parquet",
         "part-00001-2e7904f4-34d5-461f-b98e-33ebde12b22b-c000.snappy.parquet",
         146702,
         1700921555000
        ],
        [
         "dbfs:/FileStore/tables/deltaData/part-00002-e68be46a-a60a-4a6a-a988-566708752548-c000.snappy.parquet",
         "part-00002-e68be46a-a60a-4a6a-a988-566708752548-c000.snappy.parquet",
         145062,
         1700921555000
        ],
        [
         "dbfs:/FileStore/tables/deltaData/part-00003-f3af5ff7-6d2f-488a-9acd-7a6e5e18ca34-c000.snappy.parquet",
         "part-00003-f3af5ff7-6d2f-488a-9acd-7a6e5e18ca34-c000.snappy.parquet",
         71850,
         1700921555000
        ],
        [
         "dbfs:/FileStore/tables/deltaData/part-00004-6d543892-c380-47fd-9561-1288f0d57a1f-c000.snappy.parquet",
         "part-00004-6d543892-c380-47fd-9561-1288f0d57a1f-c000.snappy.parquet",
         118781,
         1700921555000
        ],
        [
         "dbfs:/FileStore/tables/deltaData/part-00005-8e2d7944-3f58-47c4-8efe-104ecf46d7e9-c000.snappy.parquet",
         "part-00005-8e2d7944-3f58-47c4-8efe-104ecf46d7e9-c000.snappy.parquet",
         147029,
         1700921555000
        ],
        [
         "dbfs:/FileStore/tables/deltaData/part-00006-24f8e63b-26a2-478d-927e-65d0173022fa-c000.snappy.parquet",
         "part-00006-24f8e63b-26a2-478d-927e-65d0173022fa-c000.snappy.parquet",
         146856,
         1700921555000
        ],
        [
         "dbfs:/FileStore/tables/deltaData/part-00007-09072444-11f5-48d4-b0d8-fd53197100f9-c000.snappy.parquet",
         "part-00007-09072444-11f5-48d4-b0d8-fd53197100f9-c000.snappy.parquet",
         83039,
         1700921555000
        ]
       ],
       "datasetInfos": [],
       "dbfsResultPath": null,
       "isJsonSchema": true,
       "metadata": {
        "isDbfsCommandResult": false
       },
       "overflow": false,
       "plotOptions": {
        "customPlotOptions": {},
        "displayType": "table",
        "pivotAggregation": null,
        "pivotColumns": null,
        "xColumns": null,
        "yColumns": null
       },
       "removedWidgets": [],
       "schema": [
        {
         "metadata": "{}",
         "name": "path",
         "type": "\"string\""
        },
        {
         "metadata": "{}",
         "name": "name",
         "type": "\"string\""
        },
        {
         "metadata": "{}",
         "name": "size",
         "type": "\"long\""
        },
        {
         "metadata": "{}",
         "name": "modificationTime",
         "type": "\"long\""
        }
       ],
       "type": "table"
      }
     },
     "output_type": "display_data"
    }
   ],
   "source": [
    " %fs ls dbfs:/FileStore/tables/deltaData"
   ]
  },
  {
   "cell_type": "code",
   "execution_count": 0,
   "metadata": {
    "application/vnd.databricks.v1+cell": {
     "cellMetadata": {
      "byteLimit": 2048000,
      "rowLimit": 10000
     },
     "inputWidgets": {},
     "nuid": "4ff9ceea-1cee-4764-9623-7c5c8d6a384b",
     "showTitle": false,
     "title": ""
    }
   },
   "outputs": [
    {
     "output_type": "display_data",
     "data": {
      "text/html": [
       "<style scoped>\n",
       "  .table-result-container {\n",
       "    max-height: 300px;\n",
       "    overflow: auto;\n",
       "  }\n",
       "  table, th, td {\n",
       "    border: 1px solid black;\n",
       "    border-collapse: collapse;\n",
       "  }\n",
       "  th, td {\n",
       "    padding: 5px;\n",
       "  }\n",
       "  th {\n",
       "    text-align: left;\n",
       "  }\n",
       "</style><div class='table-result-container'><table class='table-result'><thead style='background-color: white'><tr><th>path</th><th>name</th><th>size</th><th>modificationTime</th></tr></thead><tbody><tr><td>dbfs:/FileStore/tables/deltaData/_delta_log/.s3-optimization-0</td><td>.s3-optimization-0</td><td>0</td><td>1700921557000</td></tr><tr><td>dbfs:/FileStore/tables/deltaData/_delta_log/.s3-optimization-1</td><td>.s3-optimization-1</td><td>0</td><td>1700921557000</td></tr><tr><td>dbfs:/FileStore/tables/deltaData/_delta_log/.s3-optimization-2</td><td>.s3-optimization-2</td><td>0</td><td>1700921557000</td></tr><tr><td>dbfs:/FileStore/tables/deltaData/_delta_log/00000000000000000000.crc</td><td>00000000000000000000.crc</td><td>8895</td><td>1700921569000</td></tr><tr><td>dbfs:/FileStore/tables/deltaData/_delta_log/00000000000000000000.json</td><td>00000000000000000000.json</td><td>7923</td><td>1700921557000</td></tr></tbody></table></div>"
      ]
     },
     "metadata": {
      "application/vnd.databricks.v1+output": {
       "addedWidgets": {},
       "aggData": [],
       "aggError": "",
       "aggOverflow": false,
       "aggSchema": [],
       "aggSeriesLimitReached": false,
       "aggType": "",
       "arguments": {},
       "columnCustomDisplayInfos": {},
       "data": [
        [
         "dbfs:/FileStore/tables/deltaData/_delta_log/.s3-optimization-0",
         ".s3-optimization-0",
         0,
         1700921557000
        ],
        [
         "dbfs:/FileStore/tables/deltaData/_delta_log/.s3-optimization-1",
         ".s3-optimization-1",
         0,
         1700921557000
        ],
        [
         "dbfs:/FileStore/tables/deltaData/_delta_log/.s3-optimization-2",
         ".s3-optimization-2",
         0,
         1700921557000
        ],
        [
         "dbfs:/FileStore/tables/deltaData/_delta_log/00000000000000000000.crc",
         "00000000000000000000.crc",
         8895,
         1700921569000
        ],
        [
         "dbfs:/FileStore/tables/deltaData/_delta_log/00000000000000000000.json",
         "00000000000000000000.json",
         7923,
         1700921557000
        ]
       ],
       "datasetInfos": [],
       "dbfsResultPath": null,
       "isJsonSchema": true,
       "metadata": {
        "isDbfsCommandResult": false
       },
       "overflow": false,
       "plotOptions": {
        "customPlotOptions": {},
        "displayType": "table",
        "pivotAggregation": null,
        "pivotColumns": null,
        "xColumns": null,
        "yColumns": null
       },
       "removedWidgets": [],
       "schema": [
        {
         "metadata": "{}",
         "name": "path",
         "type": "\"string\""
        },
        {
         "metadata": "{}",
         "name": "name",
         "type": "\"string\""
        },
        {
         "metadata": "{}",
         "name": "size",
         "type": "\"long\""
        },
        {
         "metadata": "{}",
         "name": "modificationTime",
         "type": "\"long\""
        }
       ],
       "type": "table"
      }
     },
     "output_type": "display_data"
    }
   ],
   "source": [
    " %fs ls dbfs:/FileStore/tables/deltaData/_delta_log"
   ]
  },
  {
   "cell_type": "markdown",
   "metadata": {
    "application/vnd.databricks.v1+cell": {
     "cellMetadata": {
      "byteLimit": 2048000,
      "rowLimit": 10000
     },
     "inputWidgets": {},
     "nuid": "fa2692f1-f5d6-41bc-97ec-f98e065e6732",
     "showTitle": false,
     "title": ""
    }
   },
   "source": [
    "## Time Travel Feature Exploration"
   ]
  },
  {
   "cell_type": "markdown",
   "metadata": {
    "application/vnd.databricks.v1+cell": {
     "cellMetadata": {
      "byteLimit": 2048000,
      "rowLimit": 10000
     },
     "inputWidgets": {},
     "nuid": "2a4fc790-9bf9-48e5-a60d-f9f0918d465c",
     "showTitle": false,
     "title": ""
    }
   },
   "source": [
    "##### Add a stock to the list "
   ]
  },
  {
   "cell_type": "code",
   "execution_count": 0,
   "metadata": {
    "application/vnd.databricks.v1+cell": {
     "cellMetadata": {
      "byteLimit": 2048000,
      "rowLimit": 10000
     },
     "inputWidgets": {},
     "nuid": "e1ddd8a8-f8ea-4d28-9dc3-159b9b7a70f0",
     "showTitle": false,
     "title": ""
    }
   },
   "outputs": [],
   "source": [
    "adbe = spark.read.csv(\n",
    "    path=\"dbfs:/FileStore/tables/ADBE.csv\",\n",
    "    sep=\",\", \n",
    "    header=True, \n",
    "    schema=schema\n",
    "    )"
   ]
  },
  {
   "cell_type": "code",
   "execution_count": 0,
   "metadata": {
    "application/vnd.databricks.v1+cell": {
     "cellMetadata": {
      "byteLimit": 2048000,
      "rowLimit": 10000
     },
     "inputWidgets": {},
     "nuid": "6c25e713-db83-494c-9251-a28391c3f1cd",
     "showTitle": false,
     "title": ""
    }
   },
   "outputs": [
    {
     "output_type": "stream",
     "name": "stdout",
     "output_type": "stream",
     "text": [
      "+----+----+----+---+-----+------+---------+------+\n|Date|Open|High|Low|Close|Volume|Dividends|ticker|\n+----+----+----+---+-----+------+---------+------+\n+----+----+----+---+-----+------+---------+------+\n\n"
     ]
    }
   ],
   "source": [
    "adbe = adbe.withColumn('ticker', F.lit('ADBE')).drop('Stock Splits')\n",
    "null_values = adbe.filter(reduce(lambda a, b: a | b, [F.col(c).isNull() for c in adbe.columns]))\n",
    "null_values.show()"
   ]
  },
  {
   "cell_type": "code",
   "execution_count": 0,
   "metadata": {
    "application/vnd.databricks.v1+cell": {
     "cellMetadata": {
      "byteLimit": 2048000,
      "rowLimit": 10000
     },
     "inputWidgets": {},
     "nuid": "03fbf56e-b8af-4f2d-9c20-b6db60ddad9e",
     "showTitle": false,
     "title": ""
    }
   },
   "outputs": [],
   "source": [
    "adbe.write.format(\"delta\").mode(\"append\").save('dbfs:/FileStore/tables/deltaData')"
   ]
  },
  {
   "cell_type": "code",
   "execution_count": 0,
   "metadata": {
    "application/vnd.databricks.v1+cell": {
     "cellMetadata": {
      "byteLimit": 2048000,
      "rowLimit": 10000
     },
     "inputWidgets": {},
     "nuid": "58265c37-300c-4d87-ac76-07374a381ae2",
     "showTitle": false,
     "title": ""
    }
   },
   "outputs": [
    {
     "output_type": "display_data",
     "data": {
      "text/html": [
       "<style scoped>\n",
       "  .table-result-container {\n",
       "    max-height: 300px;\n",
       "    overflow: auto;\n",
       "  }\n",
       "  table, th, td {\n",
       "    border: 1px solid black;\n",
       "    border-collapse: collapse;\n",
       "  }\n",
       "  th, td {\n",
       "    padding: 5px;\n",
       "  }\n",
       "  th {\n",
       "    text-align: left;\n",
       "  }\n",
       "</style><div class='table-result-container'><table class='table-result'><thead style='background-color: white'><tr><th>path</th><th>name</th><th>size</th><th>modificationTime</th></tr></thead><tbody><tr><td>dbfs:/FileStore/tables/deltaData/_delta_log/</td><td>_delta_log/</td><td>0</td><td>0</td></tr><tr><td>dbfs:/FileStore/tables/deltaData/part-00000-af8d539f-b948-49c3-99c3-33d678b215ce-c000.snappy.parquet</td><td>part-00000-af8d539f-b948-49c3-99c3-33d678b215ce-c000.snappy.parquet</td><td>146704</td><td>1700921575000</td></tr><tr><td>dbfs:/FileStore/tables/deltaData/part-00000-e31887d5-8463-4301-8365-6cba0a1275c3-c000.snappy.parquet</td><td>part-00000-e31887d5-8463-4301-8365-6cba0a1275c3-c000.snappy.parquet</td><td>131715</td><td>1700921555000</td></tr><tr><td>dbfs:/FileStore/tables/deltaData/part-00001-2e7904f4-34d5-461f-b98e-33ebde12b22b-c000.snappy.parquet</td><td>part-00001-2e7904f4-34d5-461f-b98e-33ebde12b22b-c000.snappy.parquet</td><td>146702</td><td>1700921555000</td></tr><tr><td>dbfs:/FileStore/tables/deltaData/part-00002-e68be46a-a60a-4a6a-a988-566708752548-c000.snappy.parquet</td><td>part-00002-e68be46a-a60a-4a6a-a988-566708752548-c000.snappy.parquet</td><td>145062</td><td>1700921555000</td></tr><tr><td>dbfs:/FileStore/tables/deltaData/part-00003-f3af5ff7-6d2f-488a-9acd-7a6e5e18ca34-c000.snappy.parquet</td><td>part-00003-f3af5ff7-6d2f-488a-9acd-7a6e5e18ca34-c000.snappy.parquet</td><td>71850</td><td>1700921555000</td></tr><tr><td>dbfs:/FileStore/tables/deltaData/part-00004-6d543892-c380-47fd-9561-1288f0d57a1f-c000.snappy.parquet</td><td>part-00004-6d543892-c380-47fd-9561-1288f0d57a1f-c000.snappy.parquet</td><td>118781</td><td>1700921555000</td></tr><tr><td>dbfs:/FileStore/tables/deltaData/part-00005-8e2d7944-3f58-47c4-8efe-104ecf46d7e9-c000.snappy.parquet</td><td>part-00005-8e2d7944-3f58-47c4-8efe-104ecf46d7e9-c000.snappy.parquet</td><td>147029</td><td>1700921555000</td></tr><tr><td>dbfs:/FileStore/tables/deltaData/part-00006-24f8e63b-26a2-478d-927e-65d0173022fa-c000.snappy.parquet</td><td>part-00006-24f8e63b-26a2-478d-927e-65d0173022fa-c000.snappy.parquet</td><td>146856</td><td>1700921555000</td></tr><tr><td>dbfs:/FileStore/tables/deltaData/part-00007-09072444-11f5-48d4-b0d8-fd53197100f9-c000.snappy.parquet</td><td>part-00007-09072444-11f5-48d4-b0d8-fd53197100f9-c000.snappy.parquet</td><td>83039</td><td>1700921555000</td></tr></tbody></table></div>"
      ]
     },
     "metadata": {
      "application/vnd.databricks.v1+output": {
       "addedWidgets": {},
       "aggData": [],
       "aggError": "",
       "aggOverflow": false,
       "aggSchema": [],
       "aggSeriesLimitReached": false,
       "aggType": "",
       "arguments": {},
       "columnCustomDisplayInfos": {},
       "data": [
        [
         "dbfs:/FileStore/tables/deltaData/_delta_log/",
         "_delta_log/",
         0,
         0
        ],
        [
         "dbfs:/FileStore/tables/deltaData/part-00000-af8d539f-b948-49c3-99c3-33d678b215ce-c000.snappy.parquet",
         "part-00000-af8d539f-b948-49c3-99c3-33d678b215ce-c000.snappy.parquet",
         146704,
         1700921575000
        ],
        [
         "dbfs:/FileStore/tables/deltaData/part-00000-e31887d5-8463-4301-8365-6cba0a1275c3-c000.snappy.parquet",
         "part-00000-e31887d5-8463-4301-8365-6cba0a1275c3-c000.snappy.parquet",
         131715,
         1700921555000
        ],
        [
         "dbfs:/FileStore/tables/deltaData/part-00001-2e7904f4-34d5-461f-b98e-33ebde12b22b-c000.snappy.parquet",
         "part-00001-2e7904f4-34d5-461f-b98e-33ebde12b22b-c000.snappy.parquet",
         146702,
         1700921555000
        ],
        [
         "dbfs:/FileStore/tables/deltaData/part-00002-e68be46a-a60a-4a6a-a988-566708752548-c000.snappy.parquet",
         "part-00002-e68be46a-a60a-4a6a-a988-566708752548-c000.snappy.parquet",
         145062,
         1700921555000
        ],
        [
         "dbfs:/FileStore/tables/deltaData/part-00003-f3af5ff7-6d2f-488a-9acd-7a6e5e18ca34-c000.snappy.parquet",
         "part-00003-f3af5ff7-6d2f-488a-9acd-7a6e5e18ca34-c000.snappy.parquet",
         71850,
         1700921555000
        ],
        [
         "dbfs:/FileStore/tables/deltaData/part-00004-6d543892-c380-47fd-9561-1288f0d57a1f-c000.snappy.parquet",
         "part-00004-6d543892-c380-47fd-9561-1288f0d57a1f-c000.snappy.parquet",
         118781,
         1700921555000
        ],
        [
         "dbfs:/FileStore/tables/deltaData/part-00005-8e2d7944-3f58-47c4-8efe-104ecf46d7e9-c000.snappy.parquet",
         "part-00005-8e2d7944-3f58-47c4-8efe-104ecf46d7e9-c000.snappy.parquet",
         147029,
         1700921555000
        ],
        [
         "dbfs:/FileStore/tables/deltaData/part-00006-24f8e63b-26a2-478d-927e-65d0173022fa-c000.snappy.parquet",
         "part-00006-24f8e63b-26a2-478d-927e-65d0173022fa-c000.snappy.parquet",
         146856,
         1700921555000
        ],
        [
         "dbfs:/FileStore/tables/deltaData/part-00007-09072444-11f5-48d4-b0d8-fd53197100f9-c000.snappy.parquet",
         "part-00007-09072444-11f5-48d4-b0d8-fd53197100f9-c000.snappy.parquet",
         83039,
         1700921555000
        ]
       ],
       "datasetInfos": [],
       "dbfsResultPath": null,
       "isJsonSchema": true,
       "metadata": {
        "isDbfsCommandResult": false
       },
       "overflow": false,
       "plotOptions": {
        "customPlotOptions": {},
        "displayType": "table",
        "pivotAggregation": null,
        "pivotColumns": null,
        "xColumns": null,
        "yColumns": null
       },
       "removedWidgets": [],
       "schema": [
        {
         "metadata": "{}",
         "name": "path",
         "type": "\"string\""
        },
        {
         "metadata": "{}",
         "name": "name",
         "type": "\"string\""
        },
        {
         "metadata": "{}",
         "name": "size",
         "type": "\"long\""
        },
        {
         "metadata": "{}",
         "name": "modificationTime",
         "type": "\"long\""
        }
       ],
       "type": "table"
      }
     },
     "output_type": "display_data"
    }
   ],
   "source": [
    " %fs ls dbfs:/FileStore/tables/deltaData"
   ]
  },
  {
   "cell_type": "code",
   "execution_count": 0,
   "metadata": {
    "application/vnd.databricks.v1+cell": {
     "cellMetadata": {
      "byteLimit": 2048000,
      "rowLimit": 10000
     },
     "inputWidgets": {},
     "nuid": "78e42bf9-218b-4522-b55a-5391747752d8",
     "showTitle": false,
     "title": ""
    }
   },
   "outputs": [
    {
     "output_type": "display_data",
     "data": {
      "text/html": [
       "<style scoped>\n",
       "  .table-result-container {\n",
       "    max-height: 300px;\n",
       "    overflow: auto;\n",
       "  }\n",
       "  table, th, td {\n",
       "    border: 1px solid black;\n",
       "    border-collapse: collapse;\n",
       "  }\n",
       "  th, td {\n",
       "    padding: 5px;\n",
       "  }\n",
       "  th {\n",
       "    text-align: left;\n",
       "  }\n",
       "</style><div class='table-result-container'><table class='table-result'><thead style='background-color: white'><tr><th>path</th><th>name</th><th>size</th><th>modificationTime</th></tr></thead><tbody><tr><td>dbfs:/FileStore/tables/deltaData/_delta_log/.s3-optimization-0</td><td>.s3-optimization-0</td><td>0</td><td>1700921557000</td></tr><tr><td>dbfs:/FileStore/tables/deltaData/_delta_log/.s3-optimization-1</td><td>.s3-optimization-1</td><td>0</td><td>1700921557000</td></tr><tr><td>dbfs:/FileStore/tables/deltaData/_delta_log/.s3-optimization-2</td><td>.s3-optimization-2</td><td>0</td><td>1700921557000</td></tr><tr><td>dbfs:/FileStore/tables/deltaData/_delta_log/00000000000000000000.crc</td><td>00000000000000000000.crc</td><td>8895</td><td>1700921569000</td></tr><tr><td>dbfs:/FileStore/tables/deltaData/_delta_log/00000000000000000000.json</td><td>00000000000000000000.json</td><td>7923</td><td>1700921557000</td></tr><tr><td>dbfs:/FileStore/tables/deltaData/_delta_log/00000000000000000001.crc</td><td>00000000000000000001.crc</td><td>9703</td><td>1700921580000</td></tr><tr><td>dbfs:/FileStore/tables/deltaData/_delta_log/00000000000000000001.json</td><td>00000000000000000001.json</td><td>1331</td><td>1700921576000</td></tr></tbody></table></div>"
      ]
     },
     "metadata": {
      "application/vnd.databricks.v1+output": {
       "addedWidgets": {},
       "aggData": [],
       "aggError": "",
       "aggOverflow": false,
       "aggSchema": [],
       "aggSeriesLimitReached": false,
       "aggType": "",
       "arguments": {},
       "columnCustomDisplayInfos": {},
       "data": [
        [
         "dbfs:/FileStore/tables/deltaData/_delta_log/.s3-optimization-0",
         ".s3-optimization-0",
         0,
         1700921557000
        ],
        [
         "dbfs:/FileStore/tables/deltaData/_delta_log/.s3-optimization-1",
         ".s3-optimization-1",
         0,
         1700921557000
        ],
        [
         "dbfs:/FileStore/tables/deltaData/_delta_log/.s3-optimization-2",
         ".s3-optimization-2",
         0,
         1700921557000
        ],
        [
         "dbfs:/FileStore/tables/deltaData/_delta_log/00000000000000000000.crc",
         "00000000000000000000.crc",
         8895,
         1700921569000
        ],
        [
         "dbfs:/FileStore/tables/deltaData/_delta_log/00000000000000000000.json",
         "00000000000000000000.json",
         7923,
         1700921557000
        ],
        [
         "dbfs:/FileStore/tables/deltaData/_delta_log/00000000000000000001.crc",
         "00000000000000000001.crc",
         9703,
         1700921580000
        ],
        [
         "dbfs:/FileStore/tables/deltaData/_delta_log/00000000000000000001.json",
         "00000000000000000001.json",
         1331,
         1700921576000
        ]
       ],
       "datasetInfos": [],
       "dbfsResultPath": null,
       "isJsonSchema": true,
       "metadata": {
        "isDbfsCommandResult": false
       },
       "overflow": false,
       "plotOptions": {
        "customPlotOptions": {},
        "displayType": "table",
        "pivotAggregation": null,
        "pivotColumns": null,
        "xColumns": null,
        "yColumns": null
       },
       "removedWidgets": [],
       "schema": [
        {
         "metadata": "{}",
         "name": "path",
         "type": "\"string\""
        },
        {
         "metadata": "{}",
         "name": "name",
         "type": "\"string\""
        },
        {
         "metadata": "{}",
         "name": "size",
         "type": "\"long\""
        },
        {
         "metadata": "{}",
         "name": "modificationTime",
         "type": "\"long\""
        }
       ],
       "type": "table"
      }
     },
     "output_type": "display_data"
    }
   ],
   "source": [
    " %fs ls dbfs:/FileStore/tables/deltaData/_delta_log"
   ]
  },
  {
   "cell_type": "markdown",
   "metadata": {
    "application/vnd.databricks.v1+cell": {
     "cellMetadata": {
      "byteLimit": 2048000,
      "rowLimit": 10000
     },
     "inputWidgets": {},
     "nuid": "7c260691-e40f-40e1-8bd0-889f8b56a00f",
     "showTitle": false,
     "title": ""
    }
   },
   "source": [
    "### Update Operations"
   ]
  },
  {
   "cell_type": "code",
   "execution_count": 0,
   "metadata": {
    "application/vnd.databricks.v1+cell": {
     "cellMetadata": {
      "byteLimit": 2048000,
      "rowLimit": 10000
     },
     "inputWidgets": {},
     "nuid": "ab81ebf2-4a49-495d-82f1-fbd8d8803ae2",
     "showTitle": false,
     "title": ""
    }
   },
   "outputs": [],
   "source": [
    "# Load Delta Table\n",
    "delta_table_path = \"dbfs:/FileStore/tables/deltaData\"\n",
    "deltaTable = DeltaTable.forPath(spark, delta_table_path)"
   ]
  },
  {
   "cell_type": "code",
   "execution_count": 0,
   "metadata": {
    "application/vnd.databricks.v1+cell": {
     "cellMetadata": {
      "byteLimit": 2048000,
      "rowLimit": 10000
     },
     "inputWidgets": {},
     "nuid": "1333377a-7386-489a-8677-1992da0f56df",
     "showTitle": false,
     "title": ""
    }
   },
   "outputs": [],
   "source": [
    "#Update a specific row \n",
    "condition = \"Date = '2002-05-23' AND ticker = 'NFLX'\"\n",
    "new_close_price = 1.20\n",
    "deltaTable.update(condition, {\"Close\": str(new_close_price)})"
   ]
  },
  {
   "cell_type": "code",
   "execution_count": 0,
   "metadata": {
    "application/vnd.databricks.v1+cell": {
     "cellMetadata": {
      "byteLimit": 2048000,
      "rowLimit": 10000
     },
     "inputWidgets": {},
     "nuid": "ca9a984e-f4ba-4c6c-abd8-448e8548025f",
     "showTitle": false,
     "title": ""
    }
   },
   "outputs": [
    {
     "output_type": "stream",
     "name": "stdout",
     "output_type": "stream",
     "text": [
      "+----------+--------+--------+--------+--------+---------+---------+------+\n|      Date|    Open|    High|     Low|   Close|   Volume|Dividends|ticker|\n+----------+--------+--------+--------+--------+---------+---------+------+\n|2002-05-23|1.156429|1.242857|1.145714|     1.2| 1.0479E8|      0.0|  NFLX|\n|2002-05-24|1.214286|   1.225|1.197143|    1.21|1.11048E7|      0.0|  NFLX|\n|2002-05-28|1.213571|1.232143|1.157143|1.157143|6609400.0|      0.0|  NFLX|\n|2002-05-29|1.164286|1.164286|1.085714|1.103571|6757800.0|      0.0|  NFLX|\n|2002-05-30|1.107857|1.107857|1.071429|1.071429|1.01542E7|      0.0|  NFLX|\n|2002-05-31|1.078571|1.078571|1.071429|1.076429|8464400.0|      0.0|  NFLX|\n|2002-06-03|    1.08|1.149286|1.076429|1.128571|3151400.0|      0.0|  NFLX|\n|2002-06-04|1.135714|    1.14|1.110714|1.117857|3105200.0|      0.0|  NFLX|\n|2002-06-05|1.110714|1.159286|1.107143|1.147143|1531600.0|      0.0|  NFLX|\n|2002-06-06|    1.15|1.232143|1.148571|1.182143|2305800.0|      0.0|  NFLX|\n|2002-06-07|1.177857|1.177857|1.103571|1.118571|1369200.0|      0.0|  NFLX|\n|2002-06-10|   1.135|   1.175|1.134286|1.156429| 484400.0|      0.0|  NFLX|\n|2002-06-11|1.156429|1.188571|1.128571|1.153571|1003800.0|      0.0|  NFLX|\n|2002-06-12|1.153571|1.182143|1.089286|1.092857|1799000.0|      0.0|  NFLX|\n|2002-06-13|1.104286|1.122143|    1.08|1.082857|2567600.0|      0.0|  NFLX|\n|2002-06-14|1.082143|1.085714|    0.98|0.986429|4783800.0|      0.0|  NFLX|\n|2002-06-17|1.013571|1.059286|0.917857|0.922143|4855200.0|      0.0|  NFLX|\n|2002-06-18|0.938571|0.939286|0.842143|0.910714| 1.0808E7|      0.0|  NFLX|\n|2002-06-19|0.911429|0.996429|0.892857|0.951429|5482400.0|      0.0|  NFLX|\n|2002-06-20|0.971429|    1.04|    0.95|0.957143|6111000.0|      0.0|  NFLX|\n+----------+--------+--------+--------+--------+---------+---------+------+\nonly showing top 20 rows\n\n"
     ]
    }
   ],
   "source": [
    "#View the data after the modificatons\n",
    "updated_df = spark.read.format(\"delta\").load(\"dbfs:/FileStore/tables/deltaData\")\n",
    "updated_df.filter(F.col('ticker') == 'NFLX').show()"
   ]
  },
  {
   "cell_type": "markdown",
   "metadata": {
    "application/vnd.databricks.v1+cell": {
     "cellMetadata": {
      "byteLimit": 2048000,
      "rowLimit": 10000
     },
     "inputWidgets": {},
     "nuid": "68248f5b-178a-4f2c-b410-c9a9591a85d2",
     "showTitle": false,
     "title": ""
    }
   },
   "source": [
    "### Delete Operations"
   ]
  },
  {
   "cell_type": "code",
   "execution_count": 0,
   "metadata": {
    "application/vnd.databricks.v1+cell": {
     "cellMetadata": {
      "byteLimit": 2048000,
      "rowLimit": 10000
     },
     "inputWidgets": {},
     "nuid": "4deddd77-d06b-450b-9e63-f9ae1d1bb59d",
     "showTitle": false,
     "title": ""
    }
   },
   "outputs": [
    {
     "output_type": "stream",
     "name": "stdout",
     "output_type": "stream",
     "text": [
      "+----------+---------+---------+---------+---------+---------+---------+------+\n|      Date|     Open|     High|      Low|    Close|   Volume|Dividends|ticker|\n+----------+---------+---------+---------+---------+---------+---------+------+\n|2000-01-03| 16.69356|16.755617|15.948866| 16.27467|7384400.0|      0.0|  ADBE|\n|2000-01-04| 15.63858|16.336731|14.878372|14.909401|7813200.0|      0.0|  ADBE|\n|2000-01-05|14.459477|15.576518|14.459477|15.204171|1.49272E7|      0.0|  ADBE|\n|2000-01-06|15.250718|15.545492|15.049029| 15.32829|1.02212E7|      0.0|  ADBE|\n|2000-01-07|15.281749|16.072987| 15.11109|16.072987|8253200.0|      0.0|  ADBE|\n+----------+---------+---------+---------+---------+---------+---------+------+\nonly showing top 5 rows\n\n"
     ]
    }
   ],
   "source": [
    "updated_df.filter(F.col('ticker') == 'ADBE').show(5)"
   ]
  },
  {
   "cell_type": "code",
   "execution_count": 0,
   "metadata": {
    "application/vnd.databricks.v1+cell": {
     "cellMetadata": {
      "byteLimit": 2048000,
      "rowLimit": 10000
     },
     "inputWidgets": {},
     "nuid": "6ccedb36-b4ff-4071-99a9-a3e5a1dabee2",
     "showTitle": false,
     "title": ""
    }
   },
   "outputs": [],
   "source": [
    "#Delete the ADBE stock from the dataframe\n",
    "del_condition = \"ticker = 'ADBE'\"\n",
    "deltaTable.delete(del_condition)"
   ]
  },
  {
   "cell_type": "code",
   "execution_count": 0,
   "metadata": {
    "application/vnd.databricks.v1+cell": {
     "cellMetadata": {
      "byteLimit": 2048000,
      "rowLimit": 10000
     },
     "inputWidgets": {},
     "nuid": "fd7324a4-a784-4c7d-87d8-b903ccd4cacf",
     "showTitle": false,
     "title": ""
    }
   },
   "outputs": [
    {
     "output_type": "stream",
     "name": "stdout",
     "output_type": "stream",
     "text": [
      "+----+----+----+---+-----+------+---------+------+\n|Date|Open|High|Low|Close|Volume|Dividends|ticker|\n+----+----+----+---+-----+------+---------+------+\n+----+----+----+---+-----+------+---------+------+\n\n"
     ]
    }
   ],
   "source": [
    "#View the data after the delete modificatons\n",
    "updated_df1 = spark.read.format(\"delta\").load(\"dbfs:/FileStore/tables/deltaData\")\n",
    "updated_df1.filter(F.col('ticker') == 'ADBE').show()"
   ]
  },
  {
   "cell_type": "code",
   "execution_count": 0,
   "metadata": {
    "application/vnd.databricks.v1+cell": {
     "cellMetadata": {
      "byteLimit": 2048000,
      "rowLimit": 10000
     },
     "inputWidgets": {},
     "nuid": "82ef6eb6-ec59-4f5d-8ffc-344e98cddd71",
     "showTitle": false,
     "title": ""
    }
   },
   "outputs": [
    {
     "output_type": "stream",
     "name": "stdout",
     "output_type": "stream",
     "text": [
      "+-------+-------------------+---------------+-----------------+---------+--------------------+----+------------------+--------------------+-----------+-----------------+-------------+--------------------+------------+--------------------+\n|version|          timestamp|         userId|         userName|operation| operationParameters| job|          notebook|           clusterId|readVersion|   isolationLevel|isBlindAppend|    operationMetrics|userMetadata|          engineInfo|\n+-------+-------------------+---------------+-----------------+---------+--------------------+----+------------------+--------------------+-----------+-----------------+-------------+--------------------+------------+--------------------+\n|      3|2023-11-25 14:13:26|192325061983218|wiajayi@gmail.com|   DELETE|{predicate -> [\"(...|null|{3208108577835549}|1125-134628-7x4wuv1m|          2|WriteSerializable|        false|{numRemovedFiles ...|        null|Databricks-Runtim...|\n|      2|2023-11-25 14:13:14|192325061983218|wiajayi@gmail.com|   UPDATE|{predicate -> [\"(...|null|{3208108577835549}|1125-134628-7x4wuv1m|          1|WriteSerializable|        false|{numRemovedFiles ...|        null|Databricks-Runtim...|\n|      1|2023-11-25 14:12:56|192325061983218|wiajayi@gmail.com|    WRITE|{mode -> Append, ...|null|{3208108577835549}|1125-134628-7x4wuv1m|          0|WriteSerializable|         true|{numFiles -> 1, n...|        null|Databricks-Runtim...|\n|      0|2023-11-25 14:12:37|192325061983218|wiajayi@gmail.com|    WRITE|{mode -> ErrorIfE...|null|{3208108577835549}|1125-134628-7x4wuv1m|       null|WriteSerializable|         true|{numFiles -> 8, n...|        null|Databricks-Runtim...|\n+-------+-------------------+---------------+-----------------+---------+--------------------+----+------------------+--------------------+-----------+-----------------+-------------+--------------------+------------+--------------------+\n\n"
     ]
    }
   ],
   "source": [
    "#Show the history\n",
    "deltaTable.history().show()"
   ]
  },
  {
   "cell_type": "code",
   "execution_count": 0,
   "metadata": {
    "application/vnd.databricks.v1+cell": {
     "cellMetadata": {
      "byteLimit": 2048000,
      "rowLimit": 10000
     },
     "inputWidgets": {},
     "nuid": "8c01186f-b429-4c2a-b98c-fe999c25f152",
     "showTitle": false,
     "title": ""
    }
   },
   "outputs": [
    {
     "output_type": "stream",
     "name": "stdout",
     "output_type": "stream",
     "text": [
      "+----------+---------+----------+----------+---------+---------+---------+------+\n|      Date|     Open|      High|       Low|    Close|   Volume|Dividends|ticker|\n+----------+---------+----------+----------+---------+---------+---------+------+\n|2000-01-03| 16.69356| 16.755617| 15.948866| 16.27467|7384400.0|      0.0|  ADBE|\n|2000-01-04| 15.63858| 16.336731| 14.878372|14.909401|7813200.0|      0.0|  ADBE|\n|2000-01-05|14.459477| 15.576518| 14.459477|15.204171|1.49272E7|      0.0|  ADBE|\n|2000-01-06|15.250718| 15.545492| 15.049029| 15.32829|1.02212E7|      0.0|  ADBE|\n|2000-01-07|15.281749| 16.072987|  15.11109|16.072987|8253200.0|      0.0|  ADBE|\n|2000-01-10|16.228132| 16.693565| 15.793726|16.693565|1.09872E7|      0.0|  ADBE|\n|2000-01-11| 16.67805| 16.693563| 15.483436|15.545493|9616000.0|      0.0|  ADBE|\n|2000-01-12|15.576523|15.7316675| 15.328291|15.467921|8051200.0|      0.0|  ADBE|\n|2000-01-13|15.592037| 16.383274| 15.576523|16.290188|5527200.0|      0.0|  ADBE|\n|2000-01-14|16.538414| 16.724588| 16.290184|16.460842|5136800.0|      0.0|  ADBE|\n|2000-01-18|16.150555| 16.352242| 15.886808|15.886808|5201600.0|      0.0|  ADBE|\n|2000-01-19|15.816998| 15.979898| 15.514464|15.669609|4559200.0|      0.0|  ADBE|\n|2000-01-20|15.793723| 16.041954| 15.266232|15.840266|4248800.0|      0.0|  ADBE|\n|2000-01-21|16.010925| 16.104012|15.3903475| 15.60755|6900000.0|      0.0|  ADBE|\n|2000-01-24|15.661853| 15.762695| 14.924914|15.033516|5895600.0|      0.0|  ADBE|\n|2000-01-25|14.932672| 15.731666| 14.614624|15.638578|7566000.0|      0.0|  ADBE|\n|2000-01-26| 15.66961| 15.948871| 15.126604|15.188662|4466000.0|      0.0|  ADBE|\n|2000-01-27|15.095572|  15.88681| 15.095572|15.561007|5864400.0|      0.0|  ADBE|\n|2000-01-28| 15.18866|  15.35932| 14.056105|14.288821|5712000.0|      0.0|  ADBE|\n|2000-01-31|14.180221|14.4284525| 13.264868|13.668243|1.64592E7|      0.0|  ADBE|\n+----------+---------+----------+----------+---------+---------+---------+------+\nonly showing top 20 rows\n\n"
     ]
    }
   ],
   "source": [
    "# Go back before the DELETE Operation \n",
    "version_02_df = spark.read.format(\"delta\").option(\"versionAsOf\", 2).load(\"dbfs:/FileStore/tables/deltaData\")\n",
    "version_02_df.filter(F.col('ticker') == 'ADBE').show()"
   ]
  }
 ],
 "metadata": {
  "application/vnd.databricks.v1+notebook": {
   "dashboards": [],
   "language": "python",
   "notebookMetadata": {
    "mostRecentlyExecutedCommandWithImplicitDF": {
     "commandId": 3208108577835576,
     "dataframes": [
      "_sqldf"
     ]
    },
    "pythonIndentUnit": 4
   },
   "notebookName": "Delta Lake Starter",
   "widgets": {}
  }
 },
 "nbformat": 4,
 "nbformat_minor": 0
}
